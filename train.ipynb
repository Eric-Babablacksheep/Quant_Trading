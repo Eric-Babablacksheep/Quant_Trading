{
 "cells": [
  {
   "cell_type": "code",
   "execution_count": 1,
   "id": "c4562f76",
   "metadata": {},
   "outputs": [],
   "source": [
    "import requests\n",
    "import pandas as pd\n",
    "import time\n",
    "from typing import Tuple\n",
    "from abc import ABC, abstractmethod\n",
    "from typing import Dict, Any, List, Optional, Callable\n",
    "from sklearn.preprocessing import MinMaxScaler\n",
    "\n",
    "pd.set_option('display.max_rows', None)"
   ]
  },
  {
   "cell_type": "code",
   "execution_count": 2,
   "id": "eedb30e9",
   "metadata": {},
   "outputs": [],
   "source": [
    "class IDataFetcher(ABC):\n",
    "    @abstractmethod\n",
    "    def fetch(self, start_time: int, end_time: int) -> pd.DataFrame:\n",
    "        pass"
   ]
  },
  {
   "cell_type": "code",
   "execution_count": 3,
   "id": "b64dd29f",
   "metadata": {},
   "outputs": [],
   "source": [
    "class MarketDataFetcher(IDataFetcher):\n",
    "    def __init__(\n",
    "        self,\n",
    "        api_key: str,\n",
    "        base_url: str,\n",
    "        endpoint: str,\n",
    "        params_template: Dict[str, Any],\n",
    "        flatten_json: bool = False,\n",
    "        rename_columns: Optional[Dict[str, str]] = None\n",
    "    ):\n",
    "        self.api_key = api_key\n",
    "        self.base_url = base_url\n",
    "        self.endpoint = endpoint\n",
    "        self.params_template = params_template\n",
    "        self.flatten_json = flatten_json\n",
    "        self.rename_columns = rename_columns or {}\n",
    "\n",
    "    def fetch(self, start_time: int, end_time: int) -> pd.DataFrame:\n",
    "        headers = {\"X-API-Key\": self.api_key}\n",
    "        url = f\"{self.base_url}/{self.endpoint}\"\n",
    "        params = self.params_template.copy()\n",
    "        params.update({\n",
    "            \"start_time\": start_time,\n",
    "            \"end_time\": end_time\n",
    "        })\n",
    "\n",
    "        response = requests.get(url, headers=headers, params=params)\n",
    "        response.raise_for_status()\n",
    "        data = response.json().get(\"data\", [])\n",
    "\n",
    "        # Use flatten if nested JSON\n",
    "        df = pd.json_normalize(data) if self.flatten_json else pd.DataFrame(data)\n",
    "\n",
    "        # Add datetime index\n",
    "        df['datetime'] = pd.to_datetime(df['start_time'], unit='ms')\n",
    "        df.set_index('datetime', inplace=True)\n",
    "        df.drop(columns=['start_time'], inplace=True)\n",
    "\n",
    "        # Rename if required\n",
    "        df.rename(columns=self.rename_columns, inplace=True)\n",
    "\n",
    "        return df\n"
   ]
  },
  {
   "cell_type": "code",
   "execution_count": 4,
   "id": "557a1576",
   "metadata": {},
   "outputs": [
    {
     "name": "stdout",
     "output_type": "stream",
     "text": [
      "                           close         high          low         open  \\\n",
      "datetime                                                                  \n",
      "2019-04-12 08:00:00  5005.201510  5065.578853  4975.212093  5013.896480   \n",
      "2019-04-12 09:00:00  5048.045167  5048.550739  4979.091315  5005.631050   \n",
      "2019-04-12 10:00:00  5068.236543  5110.133518  4984.604596  5055.378017   \n",
      "2019-04-12 11:00:00  5068.619189  5119.707024  5043.530011  5078.031336   \n",
      "2019-04-12 12:00:00  5057.879621  5106.376465  5040.506185  5072.300779   \n",
      "2019-04-12 13:00:00  5081.996580  5107.645747  5040.438517  5101.843124   \n",
      "2019-04-12 14:00:00  5063.260539  5110.291395  5033.162575  5080.586778   \n",
      "2019-04-12 15:00:00  5040.445252  5112.870477  5039.333747  5110.351250   \n",
      "2019-04-12 16:00:00  5080.702022  5119.608518  5051.085948  5085.039931   \n",
      "2019-04-12 17:00:00  5047.019451  5128.006080  5045.177233  5077.783590   \n",
      "\n",
      "                          volume  \n",
      "datetime                          \n",
      "2019-04-12 08:00:00  2342.331531  \n",
      "2019-04-12 09:00:00  1229.649407  \n",
      "2019-04-12 10:00:00  3735.340309  \n",
      "2019-04-12 11:00:00  4206.445494  \n",
      "2019-04-12 12:00:00  1760.830168  \n",
      "2019-04-12 13:00:00  2652.746955  \n",
      "2019-04-12 14:00:00  1875.816967  \n",
      "2019-04-12 15:00:00  2624.289458  \n",
      "2019-04-12 16:00:00  1782.419278  \n",
      "2019-04-12 17:00:00  3550.720296  \n"
     ]
    }
   ],
   "source": [
    "now = int(time.time() * 1000)\n",
    "start_time = now - 6 * 365 * 24 * 60 * 60 * 1000\n",
    "\n",
    "api_key = \"YBYu4oyUpkxUKi5FVZGxnDRTsBneFjEvxMs55xJHysR6kZf6\"\n",
    "\n",
    "cryptoquant_fetcher = MarketDataFetcher(\n",
    "    api_key= api_key,\n",
    "    base_url = \"https://api.datasource.cybotrade.rs/cryptoquant\",\n",
    "    endpoint = \"btc/market-data/price-ohlcv\",\n",
    "    params_template = {\"window\": \"hour\", \"flatten\": \"true\"}\n",
    ")\n",
    "\n",
    "cryptoquant_data = cryptoquant_fetcher.fetch(start_time, now)\n",
    "print(cryptoquant_data.head(10))"
   ]
  },
  {
   "cell_type": "code",
   "execution_count": 5,
   "id": "53e40a6b",
   "metadata": {},
   "outputs": [],
   "source": [
    "class IPreprocessor(ABC):\n",
    "    @abstractmethod\n",
    "    def process(self, df: pd.DataFrame) -> pd.DataFrame:\n",
    "        pass"
   ]
  },
  {
   "cell_type": "code",
   "execution_count": 6,
   "id": "05e899b8",
   "metadata": {},
   "outputs": [],
   "source": [
    "class Normalizer(IPreprocessor):\n",
    "    def _init_(self):\n",
    "        self.scaler = MinMaxScaler()\n",
    "\n",
    "    def process(self, df: pd.DataFrame) -> pd.DataFrame:\n",
    "        ohlcv_columns = ['open', 'high', 'low', 'close', 'volume']\n",
    "        df[ohlcv_columns] = self.scaler.fit_transform(df[ohlcv_columns])\n",
    "        return df"
   ]
  },
  {
   "cell_type": "code",
   "execution_count": 7,
   "id": "f3a40cbd",
   "metadata": {},
   "outputs": [],
   "source": [
    "class MissingTimestampHandler(IPreprocessor):\n",
    "    def _init_(self, frequency: str = '1h'):\n",
    "        self.frequency = frequency\n",
    "\n",
    "    def process(self, df: pd.DataFrame) -> pd.DataFrame:\n",
    "        df = df.resample(self.frequency).mean()\n",
    "        df.interpolate(method='linear', inplace=True)\n",
    "        return df"
   ]
  },
  {
   "cell_type": "code",
   "execution_count": 8,
   "id": "49d25c72",
   "metadata": {},
   "outputs": [],
   "source": [
    "# Need only if u want to change the data interval\n",
    "class Resampler(IPreprocessor):\n",
    "    def _init_(self, frequency: str):\n",
    "        self.frequency = frequency\n",
    "\n",
    "    def process(self, df: pd.DataFrame) -> pd.DataFrame:\n",
    "        return df.resample(self.frequency).agg({\n",
    "            'open': 'first',\n",
    "            'high': 'max',\n",
    "            'low': 'min',\n",
    "            'close': 'last',\n",
    "            'volume': 'sum'\n",
    "        })"
   ]
  },
  {
   "cell_type": "code",
   "execution_count": 9,
   "id": "187c198f",
   "metadata": {},
   "outputs": [],
   "source": [
    "class TrainTestSplitter:\n",
    "    def __init__(self, train_ratio: float = 0.7):\n",
    "        self.train_ratio = train_ratio\n",
    "\n",
    "    def split(self, df: pd.DataFrame) -> Tuple[pd.DataFrame, pd.DataFrame]:\n",
    "        split_index = int(len(df) * self.train_ratio)\n",
    "        df_train = df.iloc[:split_index]\n",
    "        df_test = df.iloc[split_index:]\n",
    "        return df_train, df_test\n",
    "\n",
    "    def to_array(self, df: pd.DataFrame) -> list:\n",
    "        return df.values.tolist()\n"
   ]
  }
 ],
 "metadata": {
  "kernelspec": {
   "display_name": "Python 3",
   "language": "python",
   "name": "python3"
  },
  "language_info": {
   "codemirror_mode": {
    "name": "ipython",
    "version": 3
   },
   "file_extension": ".py",
   "mimetype": "text/x-python",
   "name": "python",
   "nbconvert_exporter": "python",
   "pygments_lexer": "ipython3",
   "version": "3.11.9"
  }
 },
 "nbformat": 4,
 "nbformat_minor": 5
}
