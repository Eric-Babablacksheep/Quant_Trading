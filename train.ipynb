{
 "cells": [
  {
   "cell_type": "code",
   "execution_count": 1,
   "id": "c4562f76",
   "metadata": {},
   "outputs": [],
   "source": [
    "import requests\n",
    "import pandas as pd\n",
    "import time\n",
    "from typing import Tuple\n",
    "from abc import ABC, abstractmethod\n",
    "from typing import Dict, Any, List, Optional, Callable\n",
    "from sklearn.preprocessing import MinMaxScaler\n",
    "\n",
    "pd.set_option('display.max_rows', None)"
   ]
  },
  {
   "cell_type": "code",
   "execution_count": 2,
   "id": "eedb30e9",
   "metadata": {},
   "outputs": [],
   "source": [
    "class IDataFetcher(ABC):\n",
    "    @abstractmethod\n",
    "    def fetch(self, start_time: int, end_time: int) -> pd.DataFrame:\n",
    "        pass"
   ]
  },
  {
   "cell_type": "code",
   "execution_count": 3,
   "id": "b64dd29f",
   "metadata": {},
   "outputs": [],
   "source": [
    "class MarketDataFetcher(IDataFetcher):\n",
    "    def __init__(\n",
    "        self,\n",
    "        api_key: str,\n",
    "        base_url: str,\n",
    "        endpoint: str,\n",
    "        params_template: Dict[str, Any],\n",
    "        flatten_json: bool = False,\n",
    "        rename_columns: Optional[Dict[str, str]] = None\n",
    "    ):\n",
    "        self.api_key = api_key\n",
    "        self.base_url = base_url\n",
    "        self.endpoint = endpoint\n",
    "        self.params_template = params_template\n",
    "        self.flatten_json = flatten_json\n",
    "        self.rename_columns = rename_columns or {}\n",
    "\n",
    "    def fetch(self, start_time: int, end_time: int) -> pd.DataFrame:\n",
    "        headers = {\"X-API-Key\": self.api_key}\n",
    "        url = f\"{self.base_url}/{self.endpoint}\"\n",
    "        params = self.params_template.copy()\n",
    "        params.update({\n",
    "            \"start_time\": start_time,\n",
    "            \"end_time\": end_time\n",
    "        })\n",
    "\n",
    "        response = requests.get(url, headers=headers, params=params)\n",
    "        response.raise_for_status()\n",
    "        data = response.json().get(\"data\", [])\n",
    "\n",
    "        # Use flatten if nested JSON\n",
    "        df = pd.json_normalize(data) if self.flatten_json else pd.DataFrame(data)\n",
    "\n",
    "        # Add datetime index\n",
    "        df['datetime'] = pd.to_datetime(df['start_time'], unit='ms')\n",
    "        df.set_index('datetime', inplace=True)\n",
    "        df.drop(columns=['start_time'], inplace=True)\n",
    "\n",
    "        # Rename if required\n",
    "        df.rename(columns=self.rename_columns, inplace=True)\n",
    "\n",
    "        return df\n"
   ]
  },
  {
   "cell_type": "code",
   "execution_count": 4,
   "id": "8740c7b5",
   "metadata": {},
   "outputs": [],
   "source": [
    "def get_cryptoquant_data():\n",
    "    now = int(time.time() * 1000)\n",
    "    start_time = now - 6 * 365 * 24 * 60 * 60 * 1000\n",
    "\n",
    "    api_key = \"YBYu4oyUpkxUKi5FVZGxnDRTsBneFjEvxMs55xJHysR6kZf6\"\n",
    "\n",
    "    fetcher = MarketDataFetcher(\n",
    "        api_key=api_key,\n",
    "        base_url=\"https://api.datasource.cybotrade.rs/cryptoquant\",\n",
    "        endpoint=\"xrp/market-data/price-ohlcv\",\n",
    "        params_template={\"window\": \"hour\", \"flatten\": \"true\"}\n",
    "    )\n",
    "\n",
    "    return fetcher.fetch(start_time, now)\n"
   ]
  },
  {
   "cell_type": "code",
   "execution_count": 5,
   "id": "557a1576",
   "metadata": {},
   "outputs": [
    {
     "name": "stdout",
     "output_type": "stream",
     "text": [
      "                        close      high       low      open        volume\n",
      "datetime                                                                 \n",
      "2019-04-13 08:00:00  0.327959  0.331140  0.326784  0.329983  5.267267e+06\n",
      "2019-04-13 09:00:00  0.327912  0.330566  0.326139  0.328055  3.579032e+06\n",
      "2019-04-13 10:00:00  0.322813  0.329290  0.321690  0.327018  7.187208e+06\n",
      "2019-04-13 11:00:00  0.324656  0.325658  0.321414  0.321631  5.438059e+06\n",
      "2019-04-13 12:00:00  0.323879  0.327485  0.322847  0.325811  2.254610e+06\n",
      "2019-04-13 13:00:00  0.324818  0.327435  0.323023  0.324852  1.373858e+06\n",
      "2019-04-13 14:00:00  0.326190  0.327597  0.324320  0.324870  2.731291e+06\n",
      "2019-04-13 15:00:00  0.324661  0.327893  0.324107  0.326253  3.749263e+06\n",
      "2019-04-13 16:00:00  0.323255  0.325904  0.322509  0.324662  2.397102e+06\n",
      "2019-04-13 17:00:00  0.324473  0.326343  0.323093  0.323429  1.597702e+06\n"
     ]
    }
   ],
   "source": [
    "cryptoquant_data = get_cryptoquant_data()\n",
    "print(cryptoquant_data.head(10))"
   ]
  },
  {
   "cell_type": "code",
   "execution_count": 6,
   "id": "53e40a6b",
   "metadata": {},
   "outputs": [],
   "source": [
    "class IPreprocessor(ABC):\n",
    "    @abstractmethod\n",
    "    def process(self, df: pd.DataFrame) -> pd.DataFrame:\n",
    "        pass"
   ]
  },
  {
   "cell_type": "code",
   "execution_count": 7,
   "id": "05e899b8",
   "metadata": {},
   "outputs": [],
   "source": [
    "class Normalizer(IPreprocessor):\n",
    "    def __init__(self):\n",
    "        self.scaler = MinMaxScaler()\n",
    "\n",
    "    def process(self, df: pd.DataFrame) -> pd.DataFrame:\n",
    "        ohlcv_columns = ['open', 'high', 'low', 'close', 'volume']\n",
    "        df[ohlcv_columns] = self.scaler.fit_transform(df[ohlcv_columns])\n",
    "        return df"
   ]
  },
  {
   "cell_type": "code",
   "execution_count": 8,
   "id": "f3a40cbd",
   "metadata": {},
   "outputs": [],
   "source": [
    "class MissingTimestampHandler(IPreprocessor):\n",
    "    def __init__(self, frequency: str = '1h'):\n",
    "        self.frequency = frequency\n",
    "\n",
    "    def process(self, df: pd.DataFrame) -> pd.DataFrame:\n",
    "        df = df.resample(self.frequency).mean()\n",
    "        df.interpolate(method='linear', inplace=True)\n",
    "        return df"
   ]
  },
  {
   "cell_type": "code",
   "execution_count": 9,
   "id": "49d25c72",
   "metadata": {},
   "outputs": [],
   "source": [
    "# Need only if u want to change the data interval\n",
    "class Resampler(IPreprocessor):\n",
    "    def __init__(self, frequency: str):\n",
    "        self.frequency = frequency\n",
    "\n",
    "    def process(self, df: pd.DataFrame) -> pd.DataFrame:\n",
    "        return df.resample(self.frequency).agg({\n",
    "            'open': 'first',\n",
    "            'high': 'max',\n",
    "            'low': 'min',\n",
    "            'close': 'last',\n",
    "            'volume': 'sum'\n",
    "        })"
   ]
  },
  {
   "cell_type": "code",
   "execution_count": 10,
   "id": "f422cfb5",
   "metadata": {},
   "outputs": [
    {
     "name": "stdout",
     "output_type": "stream",
     "text": [
      "                        close      high       low      open    volume\n",
      "datetime                                                             \n",
      "2019-04-13 08:00:00  0.063652  0.060760  0.067005  0.064995  0.002603\n",
      "2019-04-13 09:00:00  0.063637  0.060584  0.066805  0.064398  0.001762\n",
      "2019-04-13 10:00:00  0.062073  0.060193  0.065425  0.064077  0.003559\n",
      "2019-04-13 11:00:00  0.062638  0.059080  0.065339  0.062409  0.002688\n",
      "2019-04-13 12:00:00  0.062400  0.059640  0.065784  0.063703  0.001103\n",
      "2019-04-13 13:00:00  0.062688  0.059624  0.065838  0.063406  0.000664\n",
      "2019-04-13 14:00:00  0.063109  0.059674  0.066240  0.063412  0.001340\n",
      "2019-04-13 15:00:00  0.062640  0.059765  0.066174  0.063840  0.001847\n",
      "2019-04-13 16:00:00  0.062209  0.059155  0.065679  0.063347  0.001174\n",
      "2019-04-13 17:00:00  0.062582  0.059290  0.065860  0.062965  0.000776\n"
     ]
    }
   ],
   "source": [
    "normalizer = Normalizer()\n",
    "normalized_data = normalizer.process(cryptoquant_data)\n",
    "print(normalized_data.head(10))"
   ]
  },
  {
   "cell_type": "code",
   "execution_count": 11,
   "id": "187c198f",
   "metadata": {},
   "outputs": [],
   "source": [
    "class TrainTestSplitter:\n",
    "    def __init__(self, train_ratio: float = 0.7):\n",
    "        self.train_ratio = train_ratio\n",
    "\n",
    "    def split(self, df: pd.DataFrame) -> Tuple[pd.DataFrame, pd.DataFrame]:\n",
    "        split_index = int(len(df) * self.train_ratio)\n",
    "        df_train = df.iloc[:split_index]\n",
    "        df_test = df.iloc[split_index:]\n",
    "        return df_train, df_test\n",
    "\n",
    "    def to_array(self, df: pd.DataFrame) -> list:\n",
    "        return df.values.tolist()\n"
   ]
  }
 ],
 "metadata": {
  "kernelspec": {
   "display_name": "Python 3",
   "language": "python",
   "name": "python3"
  },
  "language_info": {
   "codemirror_mode": {
    "name": "ipython",
    "version": 3
   },
   "file_extension": ".py",
   "mimetype": "text/x-python",
   "name": "python",
   "nbconvert_exporter": "python",
   "pygments_lexer": "ipython3",
   "version": "3.11.9"
  }
 },
 "nbformat": 4,
 "nbformat_minor": 5
}
