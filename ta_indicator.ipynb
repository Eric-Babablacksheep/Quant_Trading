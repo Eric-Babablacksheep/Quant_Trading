{
 "cells": [
  {
   "cell_type": "code",
   "execution_count": 1,
   "id": "62e44d49",
   "metadata": {},
   "outputs": [],
   "source": [
    "import pandas as pd\n",
    "from abc import ABC, abstractmethod\n",
    "import nbimporter\n",
    "from train import get_cryptoquant_data"
   ]
  },
  {
   "cell_type": "code",
   "execution_count": 2,
   "id": "7b0a34c0",
   "metadata": {},
   "outputs": [],
   "source": [
    "class IIndicator(ABC):\n",
    "    @abstractmethod\n",
    "    def indicator(self, cryptoquant_data):\n",
    "        pass"
   ]
  },
  {
   "cell_type": "markdown",
   "id": "f1574506",
   "metadata": {},
   "source": [
    "#### RSI"
   ]
  },
  {
   "cell_type": "code",
   "execution_count": 3,
   "id": "78815b59",
   "metadata": {},
   "outputs": [],
   "source": [
    "class RSIIndicator(IIndicator):\n",
    "    def __init__(self, window=14):\n",
    "        self.window = window\n",
    "\n",
    "    def indicator(self, cryptoquant_data):\n",
    "\n",
    "        # Calculate RSI\n",
    "        delta = cryptoquant_data[\"close\"].diff()\n",
    "        gain = delta.where(delta > 0, 0).rolling(window=self.window).mean()\n",
    "        loss = -delta.where(delta < 0, 0).rolling(window=self.window).mean()\n",
    "        rs = gain / loss\n",
    "        rsi = 100 - (100 / (1 + rs))\n",
    "\n",
    "        cryptoquant_data[\"rsi\"] = rsi\n",
    "\n",
    "        return cryptoquant_data"
   ]
  },
  {
   "cell_type": "markdown",
   "id": "95fa589a",
   "metadata": {},
   "source": [
    "#### Momentum"
   ]
  },
  {
   "cell_type": "code",
   "execution_count": 4,
   "id": "b0e1ae5b",
   "metadata": {},
   "outputs": [],
   "source": [
    "class MomentumIndicator(IIndicator):\n",
    "    def __init__(self, short_window=10, long_window=50):\n",
    "        self.short_window = short_window\n",
    "        self.long_window = long_window\n",
    "\n",
    "    def indicator(self, cryptoquant_data):\n",
    "\n",
    "        # Calculate Momentum\n",
    "        cryptoquant_data[\"short_ma\"] = cryptoquant_data[\"close\"].rolling(self.short_window).mean()\n",
    "        cryptoquant_data[\"long_ma\"] = cryptoquant_data[\"close\"].rolling(self.long_window).mean()\n",
    "\n",
    "        return cryptoquant_data\n"
   ]
  },
  {
   "cell_type": "markdown",
   "id": "95af6d9b",
   "metadata": {},
   "source": [
    "#### Bollinger Bands"
   ]
  },
  {
   "cell_type": "code",
   "execution_count": 5,
   "id": "78642abd",
   "metadata": {},
   "outputs": [],
   "source": [
    "class BollingerBands(IIndicator):\n",
    "    def __init__(self, window=20, num_std=2):\n",
    "        self.window = window\n",
    "        self.num_std = num_std\n",
    "\n",
    "    def indicator(self, cryptoquant_data):\n",
    "\n",
    "        # Calculate Bollinger Bands\n",
    "        cryptoquant_data[\"MA\"] = cryptoquant_data[\"close\"].rolling(window=self.window).mean()\n",
    "        cryptoquant_data[\"STD\"] = cryptoquant_data[\"close\"].rolling(window=self.window).std()\n",
    "        cryptoquant_data[\"Upper_2\"] = cryptoquant_data[\"MA\"] + (\n",
    "            self.num_std * cryptoquant_data[\"STD\"]\n",
    "        )\n",
    "        cryptoquant_data[\"Lower_2\"] = cryptoquant_data[\"MA\"] - (\n",
    "            self.num_std * cryptoquant_data[\"STD\"]\n",
    "        )\n",
    "        cryptoquant_data[\"Upper_1\"] = cryptoquant_data[\"MA\"] + cryptoquant_data[\"STD\"]\n",
    "        cryptoquant_data[\"Lower_1\"] = cryptoquant_data[\"MA\"] - cryptoquant_data[\"STD\"]\n",
    "\n",
    "        return cryptoquant_data"
   ]
  },
  {
   "cell_type": "markdown",
   "id": "d9fb5551",
   "metadata": {},
   "source": [
    "#### Stochastic Oscillator"
   ]
  },
  {
   "cell_type": "code",
   "execution_count": 6,
   "metadata": {},
   "outputs": [],
   "source": [
    "class StochasticOscillator(IIndicator):\n",
    "    def __init__(self, window = 20):\n",
    "        self.window = window\n",
    "\n",
    "    def indicator(self, cryptoquant_data):\n",
    "\n",
    "        # Calculate Stochastic Oscillator\n",
    "        low_min = cryptoquant_data[\"low\"].rolling(window=self.window).min()\n",
    "        high_max = cryptoquant_data[\"high\"].rolling(window=self.window).max()\n",
    "        k = 100 * (cryptoquant_data[\"close\"] - low_min) / (high_max - low_min)\n",
    "        d = k.rolling(window=3).mean()\n",
    "\n",
    "        cryptoquant_data[\"low_min\"] = low_min\n",
    "        cryptoquant_data[\"high_max\"] = high_max\n",
    "        cryptoquant_data[\"sto_k\"] = k\n",
    "        cryptoquant_data[\"sto_d\"] = d\n",
    "\n",
    "        return cryptoquant_data"
   ]
  },
  {
   "cell_type": "markdown",
   "id": "99da957e",
   "metadata": {},
   "source": [
    "#### MACD"
   ]
  },
  {
   "cell_type": "code",
   "execution_count": 7,
   "id": "ba404d3a",
   "metadata": {},
   "outputs": [],
   "source": [
    "class MACDIndicator(IIndicator):\n",
    "    def indicator(self, cryptoquant_data):\n",
    "        \n",
    "        # Calculate MACD\n",
    "        exp1 = cryptoquant_data[\"close\"].ewm(span=12, adjust=False).mean()\n",
    "        exp2 = cryptoquant_data[\"close\"].ewm(span=26, adjust=False).mean()\n",
    "        macd = exp1 - exp2\n",
    "        signal = macd.ewm(span=9, adjust=False).mean()\n",
    "\n",
    "        cryptoquant_data[\"exp1\"] = exp1\n",
    "        cryptoquant_data[\"exp2\"] = exp2\n",
    "        cryptoquant_data[\"macd\"] = macd\n",
    "        cryptoquant_data[\"macd_signal\"] = signal\n",
    "\n",
    "        return cryptoquant_data"
   ]
  },
  {
   "cell_type": "code",
   "execution_count": 8,
   "id": "93e9dc80",
   "metadata": {},
   "outputs": [],
   "source": [
    "def get_indicator_data():\n",
    "    data = get_cryptoquant_data()\n",
    "    data = RSIIndicator().indicator(data)\n",
    "    data = MomentumIndicator().indicator(data)\n",
    "    data = BollingerBands().indicator(data)\n",
    "    data = StochasticOscillator().indicator(data)\n",
    "    data = MACDIndicator().indicator(data)\n",
    "    \n",
    "    return data"
   ]
  },
  {
   "cell_type": "code",
   "execution_count": 9,
   "id": "8ad7033b",
   "metadata": {},
   "outputs": [
    {
     "name": "stdout",
     "output_type": "stream",
     "text": [
      "                        close      high       low      open        volume  \\\n",
      "datetime                                                                    \n",
      "2019-04-12 13:00:00  0.325668  0.329023  0.324243  0.327329  3.992486e+06   \n",
      "2019-04-12 14:00:00  0.326387  0.328087  0.324068  0.325144  3.126063e+06   \n",
      "2019-04-12 15:00:00  0.325266  0.327929  0.324561  0.326745  3.879088e+06   \n",
      "2019-04-12 16:00:00  0.327117  0.329773  0.325294  0.325046  3.774059e+06   \n",
      "2019-04-12 17:00:00  0.326224  0.328552  0.325843  0.326846  3.524562e+06   \n",
      "...                       ...       ...       ...       ...           ...   \n",
      "2019-04-16 12:00:00  0.318343  0.320678  0.317775  0.319355  3.009291e+06   \n",
      "2019-04-16 13:00:00  0.318317  0.319465  0.317294  0.317875  2.022290e+06   \n",
      "2019-04-16 14:00:00  0.319592  0.319592  0.316051  0.318281  4.001572e+06   \n",
      "2019-04-16 15:00:00  0.318906  0.321205  0.318403  0.319014  2.460008e+06   \n",
      "2019-04-16 16:00:00  0.318865  0.320563  0.318326  0.318975  1.856081e+06   \n",
      "\n",
      "                           rsi  short_ma   long_ma        MA       STD  ...  \\\n",
      "datetime                                                                ...   \n",
      "2019-04-12 13:00:00        NaN       NaN       NaN       NaN       NaN  ...   \n",
      "2019-04-12 14:00:00        NaN       NaN       NaN       NaN       NaN  ...   \n",
      "2019-04-12 15:00:00        NaN       NaN       NaN       NaN       NaN  ...   \n",
      "2019-04-12 16:00:00        NaN       NaN       NaN       NaN       NaN  ...   \n",
      "2019-04-12 17:00:00        NaN       NaN       NaN       NaN       NaN  ...   \n",
      "...                        ...       ...       ...       ...       ...  ...   \n",
      "2019-04-16 12:00:00  49.526356  0.319707  0.323155  0.318827  0.001332  ...   \n",
      "2019-04-16 13:00:00  46.172351  0.319552  0.323025  0.318852  0.001316  ...   \n",
      "2019-04-16 14:00:00  58.778470  0.319535  0.322940  0.318946  0.001298  ...   \n",
      "2019-04-16 15:00:00  49.088098  0.319517  0.322808  0.319087  0.001112  ...   \n",
      "2019-04-16 16:00:00  49.319077  0.319493  0.322716  0.319163  0.001035  ...   \n",
      "\n",
      "                      Upper_1   Lower_1   low_min  high_max      sto_k  \\\n",
      "datetime                                                                 \n",
      "2019-04-12 13:00:00       NaN       NaN       NaN       NaN        NaN   \n",
      "2019-04-12 14:00:00       NaN       NaN       NaN       NaN        NaN   \n",
      "2019-04-12 15:00:00       NaN       NaN       NaN       NaN        NaN   \n",
      "2019-04-12 16:00:00       NaN       NaN       NaN       NaN        NaN   \n",
      "2019-04-12 17:00:00       NaN       NaN       NaN       NaN        NaN   \n",
      "...                       ...       ...       ...       ...        ...   \n",
      "2019-04-16 12:00:00  0.320159  0.317494  0.315016  0.325528  31.647316   \n",
      "2019-04-16 13:00:00  0.320169  0.317536  0.315016  0.322913  41.793286   \n",
      "2019-04-16 14:00:00  0.320244  0.317649  0.315016  0.322913  57.938891   \n",
      "2019-04-16 15:00:00  0.320199  0.317974  0.315016  0.322913  49.253452   \n",
      "2019-04-16 16:00:00  0.320198  0.318128  0.316051  0.322913  41.015680   \n",
      "\n",
      "                         sto_d      exp1      exp2      macd  macd_signal  \n",
      "datetime                                                                   \n",
      "2019-04-12 13:00:00        NaN  0.325668  0.325668  0.000000     0.000000  \n",
      "2019-04-12 14:00:00        NaN  0.325778  0.325721  0.000057     0.000011  \n",
      "2019-04-12 15:00:00        NaN  0.325699  0.325687  0.000012     0.000012  \n",
      "2019-04-12 16:00:00        NaN  0.325917  0.325793  0.000124     0.000034  \n",
      "2019-04-12 17:00:00        NaN  0.325965  0.325825  0.000140     0.000055  \n",
      "...                        ...       ...       ...       ...          ...  \n",
      "2019-04-16 12:00:00  33.524324  0.319603  0.320618 -0.001015    -0.001249  \n",
      "2019-04-16 13:00:00  36.703246  0.319405  0.320447 -0.001042    -0.001208  \n",
      "2019-04-16 14:00:00  43.793164  0.319434  0.320384 -0.000950    -0.001156  \n",
      "2019-04-16 15:00:00  49.661876  0.319353  0.320274 -0.000922    -0.001109  \n",
      "2019-04-16 16:00:00  49.402674  0.319278  0.320170 -0.000892    -0.001066  \n",
      "\n",
      "[100 rows x 22 columns]\n"
     ]
    }
   ],
   "source": [
    "indicator_data = get_indicator_data()\n",
    "print(indicator_data.head(100))"
   ]
  }
 ],
 "metadata": {
  "kernelspec": {
   "display_name": "Python 3",
   "language": "python",
   "name": "python3"
  },
  "language_info": {
   "codemirror_mode": {
    "name": "ipython",
    "version": 3
   },
   "file_extension": ".py",
   "mimetype": "text/x-python",
   "name": "python",
   "nbconvert_exporter": "python",
   "pygments_lexer": "ipython3",
   "version": "3.11.9"
  }
 },
 "nbformat": 4,
 "nbformat_minor": 5
}
