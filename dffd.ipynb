{
 "cells": [
  {
   "cell_type": "code",
   "execution_count": null,
   "id": "7a8eefe5",
   "metadata": {},
   "outputs": [],
   "source": [
    "from dataloader import get_test_results"
   ]
  },
  {
   "cell_type": "code",
   "execution_count": 1,
   "id": "7217dc37",
   "metadata": {},
   "outputs": [
    {
     "ename": "NameError",
     "evalue": "name 'get_test_results' is not defined",
     "output_type": "error",
     "traceback": [
      "\u001b[1;31m---------------------------------------------------------------------------\u001b[0m",
      "\u001b[1;31mNameError\u001b[0m                                 Traceback (most recent call last)",
      "Cell \u001b[1;32mIn[1], line 1\u001b[0m\n\u001b[1;32m----> 1\u001b[0m y_true, y_pred \u001b[38;5;241m=\u001b[39m get_test_results()  \u001b[38;5;66;03m# Unpack the arrays\u001b[39;00m\n\u001b[0;32m      3\u001b[0m \u001b[38;5;66;03m# Now use them directly\u001b[39;00m\n\u001b[0;32m      4\u001b[0m \u001b[38;5;28mprint\u001b[39m(y_true\u001b[38;5;241m.\u001b[39mshape, y_pred\u001b[38;5;241m.\u001b[39mshape)\n",
      "\u001b[1;31mNameError\u001b[0m: name 'get_test_results' is not defined"
     ]
    }
   ],
   "source": [
    "y_true, y_pred = get_test_results()  # Unpack the arrays\n",
    "\n",
    "# Now use them directly\n",
    "print(y_true.shape, y_pred.shape)"
   ]
  }
 ],
 "metadata": {
  "kernelspec": {
   "display_name": "base",
   "language": "python",
   "name": "python3"
  },
  "language_info": {
   "codemirror_mode": {
    "name": "ipython",
    "version": 3
   },
   "file_extension": ".py",
   "mimetype": "text/x-python",
   "name": "python",
   "nbconvert_exporter": "python",
   "pygments_lexer": "ipython3",
   "version": "3.11.5"
  }
 },
 "nbformat": 4,
 "nbformat_minor": 5
}
