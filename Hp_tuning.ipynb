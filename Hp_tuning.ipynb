{
 "cells": [
  {
   "cell_type": "code",
   "execution_count": 1,
   "id": "54c520a8",
   "metadata": {},
   "outputs": [
    {
     "name": "stdout",
     "output_type": "stream",
     "text": [
      "Collecting scikit-optimize\n",
      "  Obtaining dependency information for scikit-optimize from https://files.pythonhosted.org/packages/65/cd/15c9ebea645cc9860aa71fe0474f4be981f10ed8e19e1fb0ef1027d4966e/scikit_optimize-0.10.2-py2.py3-none-any.whl.metadata\n",
      "  Downloading scikit_optimize-0.10.2-py2.py3-none-any.whl.metadata (9.7 kB)\n",
      "Requirement already satisfied: joblib>=0.11 in c:\\users\\user\\anaconda3\\lib\\site-packages (from scikit-optimize) (1.2.0)\n",
      "Collecting pyaml>=16.9 (from scikit-optimize)\n",
      "  Obtaining dependency information for pyaml>=16.9 from https://files.pythonhosted.org/packages/69/c1/ec1930bc6c01754b8baf3c99420f340b920561f0060bccbf81809db354cc/pyaml-25.1.0-py3-none-any.whl.metadata\n",
      "  Downloading pyaml-25.1.0-py3-none-any.whl.metadata (12 kB)\n",
      "Requirement already satisfied: numpy>=1.20.3 in c:\\users\\user\\anaconda3\\lib\\site-packages (from scikit-optimize) (1.24.3)\n",
      "Requirement already satisfied: scipy>=1.1.0 in c:\\users\\user\\anaconda3\\lib\\site-packages (from scikit-optimize) (1.11.1)\n",
      "Requirement already satisfied: scikit-learn>=1.0.0 in c:\\users\\user\\anaconda3\\lib\\site-packages (from scikit-optimize) (1.3.0)\n",
      "Requirement already satisfied: packaging>=21.3 in c:\\users\\user\\anaconda3\\lib\\site-packages (from scikit-optimize) (23.1)\n",
      "Requirement already satisfied: PyYAML in c:\\users\\user\\anaconda3\\lib\\site-packages (from pyaml>=16.9->scikit-optimize) (6.0)\n",
      "Requirement already satisfied: threadpoolctl>=2.0.0 in c:\\users\\user\\anaconda3\\lib\\site-packages (from scikit-learn>=1.0.0->scikit-optimize) (2.2.0)\n",
      "Downloading scikit_optimize-0.10.2-py2.py3-none-any.whl (107 kB)\n",
      "   ---------------------------------------- 0.0/107.8 kB ? eta -:--:--\n",
      "   ---------------------------------------- 107.8/107.8 kB 3.1 MB/s eta 0:00:00\n",
      "Downloading pyaml-25.1.0-py3-none-any.whl (26 kB)\n",
      "Installing collected packages: pyaml, scikit-optimize\n",
      "Successfully installed pyaml-25.1.0 scikit-optimize-0.10.2\n",
      "Note: you may need to restart the kernel to use updated packages.\n"
     ]
    }
   ],
   "source": [
    "pip install scikit-optimize"
   ]
  },
  {
   "cell_type": "code",
   "execution_count": null,
   "id": "c9ac843c",
   "metadata": {},
   "outputs": [],
   "source": [
    "import torch.optim as optim\n",
    "from skopt import gp_minimize\n",
    "from skopt.space import Integer, Categorical, Real\n",
    "from lstm import AttentionLSTM\n"
   ]
  },
  {
   "cell_type": "code",
   "execution_count": null,
   "id": "cf9e46e3",
   "metadata": {},
   "outputs": [],
   "source": [
    "# Define the objective function for Bayesian Optimization\n",
    "def objective(params):\n",
    "    num_layers = int(params[0])\n",
    "    hidden_size = int(params[1])\n",
    "    learning_rate = params[2]\n",
    "    dropout_prob = params[3]\n",
    "    optimizer_name = params[4]\n",
    "    num_epochs = params[5]\n",
    "\n",
    "    # Instantiate the CNN-LSTM model with these hyperparameters\n",
    "    model = CNN_LSTM(input_size=3, hidden_size=hidden_size, num_layers=num_layers, num_classes=2, dropout_prob=dropout_prob).to(device)\n",
    "\n",
    "    # Define the loss function and optimizer\n",
    "    loss_fn = nn.CrossEntropyLoss()\n",
    "\n",
    "    # Define the optimizer\n",
    "    if optimizer_name == 'adam':\n",
    "        optimizer = torch.optim.Adam(model.parameters(), lr=learning_rate)\n",
    "    elif optimizer_name == 'sgd':\n",
    "        optimizer = torch.optim.SGD(model.parameters(), lr=learning_rate)\n",
    "\n",
    "    # Training loop (for simplicity, use 1 epoch)\n",
    "    model.train()\n",
    "    num_epochs = num_epochs\n",
    "    batch_size = 128\n",
    "\n",
    "    for epoch in range(num_epochs):\n",
    "        for i in range(0, len(X_train_tensor), batch_size):\n",
    "            inputs = X_train_tensor[i:i+batch_size].to(device)\n",
    "            labels = y_train_tensor[i:i+batch_size].to(device)\n",
    "\n",
    "            # Zero the gradients\n",
    "            optimizer.zero_grad()\n",
    "\n",
    "            # Forward pass\n",
    "            outputs = model(inputs)\n",
    "            loss = loss_fn(outputs, labels)\n",
    "\n",
    "            # Backward pass and optimization\n",
    "            loss.backward()\n",
    "            optimizer.step()\n",
    "\n",
    "    # Validation step\n",
    "    model.eval()\n",
    "    with torch.inference_mode():\n",
    "        val_outputs = model(X_test_tensor.to(device))\n",
    "        val_loss = loss_fn(val_outputs, y_test_tensor.to(device))\n",
    "\n",
    "    return val_loss.item()\n"
   ]
  }
 ],
 "metadata": {
  "kernelspec": {
   "display_name": "base",
   "language": "python",
   "name": "python3"
  },
  "language_info": {
   "codemirror_mode": {
    "name": "ipython",
    "version": 3
   },
   "file_extension": ".py",
   "mimetype": "text/x-python",
   "name": "python",
   "nbconvert_exporter": "python",
   "pygments_lexer": "ipython3",
   "version": "3.11.5"
  }
 },
 "nbformat": 4,
 "nbformat_minor": 5
}
