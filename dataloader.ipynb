{
 "cells": [
  {
   "cell_type": "code",
   "execution_count": 1,
   "id": "c4562f76",
   "metadata": {},
   "outputs": [],
   "source": [
    "import requests\n",
    "import pandas as pd\n",
    "import pandas_ta as ta\n",
    "import numpy as np\n",
    "import time\n",
    "import torch\n",
    "from typing import Tuple\n",
    "from abc import ABC, abstractmethod\n",
    "from typing import Dict, Any, List, Optional, Callable\n",
    "from sklearn.preprocessing import MinMaxScaler\n",
    "\n",
    "pd.set_option('display.max_rows', None)"
   ]
  },
  {
   "cell_type": "code",
   "execution_count": 2,
   "id": "eedb30e9",
   "metadata": {},
   "outputs": [],
   "source": [
    "class IDataFetcher(ABC):\n",
    "    @abstractmethod\n",
    "    def fetch(self, start_time: int, end_time: int) -> pd.DataFrame:\n",
    "        pass"
   ]
  },
  {
   "cell_type": "code",
   "execution_count": 3,
   "id": "b64dd29f",
   "metadata": {},
   "outputs": [],
   "source": [
    "class MarketDataFetcher(IDataFetcher):\n",
    "    def __init__(\n",
    "        self,\n",
    "        api_key: str,\n",
    "        base_url: str,\n",
    "        endpoint: str,\n",
    "        params_template: Dict[str, Any],\n",
    "        flatten_json: bool = False,\n",
    "        rename_columns: Optional[Dict[str, str]] = None\n",
    "    ):\n",
    "        self.api_key = api_key\n",
    "        self.base_url = base_url\n",
    "        self.endpoint = endpoint\n",
    "        self.params_template = params_template\n",
    "        self.flatten_json = flatten_json\n",
    "        self.rename_columns = rename_columns or {}\n",
    "\n",
    "    def fetch(self, start_time: int, end_time: int) -> pd.DataFrame:\n",
    "        headers = {\"X-API-Key\": self.api_key}\n",
    "        url = f\"{self.base_url}/{self.endpoint}\"\n",
    "        params = self.params_template.copy()\n",
    "        params.update({\n",
    "            \"start_time\": start_time,\n",
    "            \"end_time\": end_time\n",
    "        })\n",
    "\n",
    "        response = requests.get(url, headers=headers, params=params)\n",
    "        response.raise_for_status()\n",
    "        data = response.json().get(\"data\", [])\n",
    "\n",
    "        # Use flatten if nested JSON\n",
    "        df = pd.json_normalize(data) if self.flatten_json else pd.DataFrame(data)\n",
    "\n",
    "        # Add datetime index\n",
    "        df['datetime'] = pd.to_datetime(df['start_time'], unit='ms')\n",
    "        df.set_index('datetime', inplace=True)\n",
    "        df.drop(columns=['start_time'], inplace=True)\n",
    "\n",
    "        # Rename if required\n",
    "        df.rename(columns=self.rename_columns, inplace=True)\n",
    "\n",
    "        return df\n"
   ]
  },
  {
   "cell_type": "code",
   "execution_count": 4,
   "id": "557a1576",
   "metadata": {},
   "outputs": [],
   "source": [
    "def get_cryptoquant_data():\n",
    "    now = int(time.time() * 1000)\n",
    "    start_time = now - 6 * 365 * 24 * 60 * 60 * 1000\n",
    "\n",
    "    api_key = \"YBYu4oyUpkxUKi5FVZGxnDRTsBneFjEvxMs55xJHysR6kZf6\"\n",
    "\n",
    "    fetcher = MarketDataFetcher(\n",
    "        api_key=api_key,\n",
    "        base_url=\"https://api.datasource.cybotrade.rs/cryptoquant\",\n",
    "        endpoint=\"xrp/market-data/price-ohlcv\",\n",
    "        params_template={\"window\": \"hour\", \"flatten\": \"true\"}\n",
    "    )\n",
    "    df = fetcher.fetch(start_time, now)\n",
    "\n",
    "    return df[[\"close\", \"volume\"]]"
   ]
  },
  {
   "cell_type": "code",
   "execution_count": 5,
   "id": "28524928",
   "metadata": {},
   "outputs": [],
   "source": [
    "data = get_cryptoquant_data()\n"
   ]
  },
  {
   "cell_type": "code",
   "execution_count": 6,
   "id": "18498c36",
   "metadata": {},
   "outputs": [],
   "source": [
    "class TA_inidicators:\n",
    "    def __init__(self, df: pd.DataFrame):\n",
    "        self.df = df.copy()\n",
    "\n",
    "    def add_ema(self, length=10):\n",
    "        self.df[f'ema'] = ta.ema(self.df['close'], length=length)\n",
    "\n",
    "    def add_rsi(self, length=14):\n",
    "        self.df[f'rsi'] = ta.rsi(self.df['close'], length=length)\n",
    "\n",
    "    def add_macd(self, fast=12, slow=26, signal=9):\n",
    "        macd = ta.macd(self.df['close'], fast=fast, slow=slow, signal=signal)\n",
    "        self.df = pd.concat([self.df, macd], axis=1)\n",
    "\n",
    "    def add_bollinger_band_width(self, length=20):\n",
    "        bbands = ta.bbands(self.df['close'], length=length)\n",
    "        self.df['bollinger_width'] = bbands[f'BBU_{length}_2.0'] - bbands[f'BBL_{length}_2.0']\n",
    "\n",
    "    def add_all_indicators(self):\n",
    "        self.add_ema()\n",
    "        self.add_rsi()\n",
    "        self.add_macd()\n",
    "        self.add_bollinger_band_width()\n",
    "\n",
    "    def get_dataframe(self):\n",
    "        return self.df\n"
   ]
  },
  {
   "cell_type": "code",
   "execution_count": 7,
   "id": "1c0cf70b",
   "metadata": {},
   "outputs": [],
   "source": [
    "class combineTA_to_OHLCV:\n",
    "    def __init__(self, ohlcv_df: pd.DataFrame):\n",
    "        self.ohlcv_df = ohlcv_df\n",
    "\n",
    "    def process(self) -> pd.DataFrame:\n",
    "        indicator_generator = TA_inidicators(self.ohlcv_df)\n",
    "        indicator_generator.add_all_indicators()\n",
    "        return indicator_generator.get_dataframe()\n"
   ]
  },
  {
   "cell_type": "code",
   "execution_count": 8,
   "id": "2f54a420",
   "metadata": {},
   "outputs": [],
   "source": [
    "data_full = combineTA_to_OHLCV(data).process()\n",
    "data_full.to_csv(\"data_full.csv\", index=True)\n"
   ]
  },
  {
   "cell_type": "code",
   "execution_count": 9,
   "id": "53e40a6b",
   "metadata": {},
   "outputs": [],
   "source": [
    "class IPreprocessor(ABC):\n",
    "    @abstractmethod\n",
    "    def process(self, df: pd.DataFrame) -> pd.DataFrame:\n",
    "        pass"
   ]
  },
  {
   "cell_type": "code",
   "execution_count": 10,
   "id": "94fe808d",
   "metadata": {},
   "outputs": [],
   "source": [
    "class Normalizer:\n",
    "    def __init__(self):\n",
    "        self.scaler = MinMaxScaler()\n",
    "\n",
    "    def process(self, df: pd.DataFrame) -> Tuple[pd.DataFrame, np.ndarray, np.ndarray, MinMaxScaler]:\n",
    "        ohlcv_columns = ['close', 'volume', 'ema', 'rsi',\n",
    "                         'MACD_12_26_9', 'MACDh_12_26_9',\n",
    "                         'MACDs_12_26_9', 'bollinger_width']\n",
    "        df[ohlcv_columns] = self.scaler.fit_transform(df[ohlcv_columns])\n",
    "        return df, self.scaler.data_min_, self.scaler.data_max_, self.scaler\n",
    "\n"
   ]
  },
  {
   "cell_type": "code",
   "execution_count": 11,
   "id": "3e1c502d",
   "metadata": {},
   "outputs": [],
   "source": [
    "class SequenceCreator:\n",
    "    def __init__(self, lookback: int = 20):\n",
    "        self.lookback = lookback\n",
    "\n",
    "    def create_sequences(self, df: pd.DataFrame) -> Tuple[np.ndarray, np.ndarray]:\n",
    "        X, y = [], []\n",
    "        for i in range(len(df) - self.lookback):\n",
    "            X.append(df.iloc[i:i + self.lookback].values)  # [lookback, features]\n",
    "            y.append(df.iloc[i + self.lookback].values)    # [features]\n",
    "        return np.array(X), np.array(y)  # X: [samples, lookback, features], y: [samples, features]\n",
    "\n",
    "\n"
   ]
  },
  {
   "cell_type": "code",
   "execution_count": 12,
   "id": "f3a40cbd",
   "metadata": {},
   "outputs": [],
   "source": [
    "class MissingTimestampHandler(IPreprocessor):\n",
    "    def __init__(self, frequency: str = '1h'):\n",
    "        self.frequency = frequency\n",
    "\n",
    "    def process(self, df: pd.DataFrame) -> pd.DataFrame:\n",
    "        df = df.resample(self.frequency).mean()\n",
    "        df.interpolate(method='linear', inplace=True)\n",
    "        return df"
   ]
  },
  {
   "cell_type": "code",
   "execution_count": 13,
   "id": "0c7c8de5",
   "metadata": {},
   "outputs": [],
   "source": [
    "class TrainTestSplitter(IPreprocessor):\n",
    "    def __init__(self, train_ratio: float = 0.7):\n",
    "        self.train_ratio = train_ratio\n",
    "\n",
    "    def process(self, X: np.ndarray, y: np.ndarray) -> Tuple[np.ndarray, np.ndarray, np.ndarray, np.ndarray]:\n",
    "        split_index = int(len(X) * self.train_ratio)\n",
    "        X_train, X_test = X[:split_index], X[split_index:]\n",
    "        y_train, y_test = y[:split_index], y[split_index:]\n",
    "        return X_train, X_test, y_train, y_test\n"
   ]
  },
  {
   "cell_type": "code",
   "execution_count": 14,
   "id": "66615fd9",
   "metadata": {},
   "outputs": [],
   "source": [
    "class DataReshape(IPreprocessor):\n",
    "    def __init__(self, lookback: int = 20, train_ratio: float = 0.7):\n",
    "        self.normalizer = Normalizer()\n",
    "        self.sequence_creator = SequenceCreator(lookback)\n",
    "        self.splitter = TrainTestSplitter(train_ratio)\n",
    "\n",
    "    def process(self, df: pd.DataFrame) -> Tuple[np.ndarray, np.ndarray, np.ndarray, np.ndarray, np.ndarray, np.ndarray, MinMaxScaler]:\n",
    "        df_normalized, data_min, data_max, scaler = self.normalizer.process(df)\n",
    "        X, y = self.sequence_creator.create_sequences(df_normalized)\n",
    "        X_train, X_test, y_train, y_test = self.splitter.process(X, y)\n",
    "        return X_train, X_test, y_train, y_test, data_min, data_max, scaler\n",
    "\n",
    "\n"
   ]
  },
  {
   "cell_type": "code",
   "execution_count": 15,
   "id": "702fb574",
   "metadata": {},
   "outputs": [],
   "source": [
    "def load_dataset(lookback: int = 20, train_ratio: float = 0.7) -> Tuple[np.ndarray, np.ndarray, np.ndarray, np.ndarray, np.ndarray, np.ndarray, MinMaxScaler]:\n",
    "    df = get_cryptoquant_data()\n",
    "    df = combineTA_to_OHLCV(df).process()\n",
    "    df = df.dropna()\n",
    "    pipeline = DataReshape(lookback=lookback, train_ratio=train_ratio)\n",
    "    return pipeline.process(df)\n"
   ]
  },
  {
   "cell_type": "code",
   "execution_count": 16,
   "id": "9ecc1c19",
   "metadata": {},
   "outputs": [],
   "source": [
    "import nbimporter\n",
    "from sklearn.metrics import accuracy_score\n",
    "import torch\n",
    "import torch.nn as nn\n",
    "import torch.nn.functional as F\n",
    "import torch.optim as optim\n",
    "from typing import Tuple, Callable\n",
    "from skopt import gp_minimize\n",
    "from skopt.space import Integer, Categorical, Real\n",
    "from sklearn.metrics import r2_score\n",
    "import torch.nn as nn\n",
    "from tqdm.auto import tqdm"
   ]
  },
  {
   "cell_type": "code",
   "execution_count": 17,
   "id": "b141b13f",
   "metadata": {},
   "outputs": [],
   "source": [
    "X_train_tensor, X_test_tensor, y_train_tensor, y_test_tensor, data_min, data_max, scaler = load_dataset()"
   ]
  },
  {
   "cell_type": "code",
   "execution_count": 18,
   "id": "4cbcbf75",
   "metadata": {},
   "outputs": [
    {
     "name": "stdout",
     "output_type": "stream",
     "text": [
      "X train shape:(36753, 20, 8)\n",
      "X test shape:(15752, 20, 8)\n",
      "y train shape:(36753, 8)\n",
      "y test shape:(15752, 8)\n"
     ]
    }
   ],
   "source": [
    "print(f\"X train shape:{X_train_tensor.shape}\")\n",
    "print(f\"X test shape:{X_test_tensor.shape}\")\n",
    "print(f\"y train shape:{y_train_tensor.shape}\")\n",
    "print(f\"y test shape:{y_test_tensor.shape}\")"
   ]
  },
  {
   "cell_type": "code",
   "execution_count": 19,
   "id": "cbc058dc",
   "metadata": {},
   "outputs": [],
   "source": [
    "# Create a function to time our experiments\n",
    "from timeit import default_timer as timer\n",
    "def print_train_time(start: float, end: float, device: torch.device = None):\n",
    "  total_time = end - start\n",
    "  print(f\"Train time on {device}: {total_time:.3f} seconds\")\n",
    "  return total_time"
   ]
  },
  {
   "cell_type": "code",
   "execution_count": null,
   "id": "b3b485ad",
   "metadata": {},
   "outputs": [],
   "source": [
    "import torch\n",
    "import torch.nn as nn\n",
    "import torch.nn.functional as F\n",
    "\n",
    "class AttentionLSTM(nn.Module):\n",
    "    def __init__(self, input_size: int, hidden_size: int, num_layers: int, dropout_prob: float = 0.2):\n",
    "        super(AttentionLSTM, self).__init__()\n",
    "        self.hidden_size = hidden_size\n",
    "        self.num_layers = num_layers\n",
    "\n",
    "        # LSTM layer\n",
    "        self.lstm = nn.LSTM(\n",
    "            input_size=input_size,\n",
    "            hidden_size=hidden_size,\n",
    "            num_layers=num_layers,\n",
    "            batch_first=True,\n",
    "            dropout=dropout_prob\n",
    "        )\n",
    "\n",
    "        # Attention mechanism\n",
    "        self.attn_weight = nn.Linear(hidden_size, 1)\n",
    "\n",
    "        # Output layer: now outputs 8 features\n",
    "        self.fc = nn.Sequential(\n",
    "            nn.Linear(hidden_size, input_size),  # output 8 features\n",
    "            # nn.Sigmoid()  # Uncomment this ONLY if you want outputs in range [0, 1]\n",
    "        )\n",
    "\n",
    "        self.dropout = nn.Dropout(dropout_prob)\n",
    "\n",
    "    def forward(self, x):\n",
    "        # x: [batch_size, seq_len, input_size]\n",
    "        batch_size = x.shape[0]\n",
    "\n",
    "        # Initialize hidden and cell states\n",
    "        h_0 = torch.zeros(self.num_layers, batch_size, self.hidden_size, device=x.device)\n",
    "        c_0 = torch.zeros(self.num_layers, batch_size, self.hidden_size, device=x.device)\n",
    "\n",
    "        # LSTM output\n",
    "        lstm_out, _ = self.lstm(x, (h_0, c_0))  # [batch, seq_len, hidden_size]\n",
    "\n",
    "        # Attention mechanism\n",
    "        attn_scores = torch.tanh(self.attn_weight(lstm_out))  # [batch, seq_len, 1]\n",
    "        attn_weights = F.softmax(attn_scores, dim=1)  # [batch, seq_len, 1]\n",
    "        context_vector = torch.sum(attn_weights * lstm_out, dim=1)  # [batch, hidden_size]\n",
    "\n",
    "        # Dropout + final output\n",
    "        out = self.dropout(context_vector)\n",
    "        out = self.fc(out)  # [batch, 8]\n",
    "        return out\n",
    "\n"
   ]
  },
  {
   "cell_type": "code",
   "execution_count": 21,
   "id": "74259f59",
   "metadata": {},
   "outputs": [],
   "source": [
    "torch.manual_seed(42)\n",
    "# Instantiate a sample model for test\n",
    "model_LSTM = AttentionLSTM(input_size=8, hidden_size=33, num_layers=3, dropout_prob=0.02)"
   ]
  },
  {
   "cell_type": "code",
   "execution_count": 22,
   "id": "aef5fe52",
   "metadata": {},
   "outputs": [],
   "source": [
    "loss_fn = nn.MSELoss()\n",
    "optimizer = torch.optim.Adam(model_LSTM.parameters(), lr= 0.0003)"
   ]
  },
  {
   "cell_type": "code",
   "execution_count": 23,
   "id": "599e63aa",
   "metadata": {},
   "outputs": [],
   "source": [
    "def regression_r2(y_true: torch.Tensor, y_pred: torch.Tensor) -> torch.Tensor:\n",
    "    y_true_np = y_true.cpu().numpy()\n",
    "    y_pred_np = y_pred.cpu().numpy()\n",
    "\n",
    "    # Compute R² for each feature separately and average\n",
    "    r2_scores = [r2_score(y_true_np[:, i], y_pred_np[:, i]) for i in range(y_true_np.shape[1])]\n",
    "    return torch.tensor(sum(r2_scores) / len(r2_scores))\n"
   ]
  },
  {
   "cell_type": "code",
   "execution_count": 24,
   "id": "a719d84d",
   "metadata": {},
   "outputs": [],
   "source": [
    "import torch\n",
    "from typing import Tuple, Callable\n",
    "import matplotlib.pyplot as plt\n",
    "\n",
    "\n",
    "def recursive_forecast(\n",
    "    model: torch.nn.Module,\n",
    "    initial_input: torch.Tensor,\n",
    "    forecast_steps: int,\n",
    "    lookback: int,\n",
    "    device: torch.device\n",
    ") -> torch.Tensor:\n",
    "    \"\"\"\n",
    "    Recursively forecasts future multi-feature values using the trained LSTM model.\n",
    "\n",
    "    Args:\n",
    "        model: Trained LSTM model\n",
    "        initial_input: Tensor of shape [1, lookback, num_features]\n",
    "        forecast_steps: Number of future steps to predict\n",
    "        lookback: Length of input window\n",
    "        device: CPU or CUDA\n",
    "\n",
    "    Returns:\n",
    "        forecast: Tensor of shape [forecast_steps, output_dim]\n",
    "    \"\"\"\n",
    "    model.eval()\n",
    "    forecast = []\n",
    "\n",
    "    current_input = initial_input.clone().to(device)\n",
    "\n",
    "    with torch.inference_mode():\n",
    "        for _ in range(forecast_steps):\n",
    "            pred = model(current_input)  # [1, output_dim] -> [1, 8]\n",
    "            forecast.append(pred.squeeze(0))  # [8]\n",
    "\n",
    "            # Replace last step with predicted features\n",
    "            new_step = pred.unsqueeze(1)  # [1, 1, 8]\n",
    "            current_input = torch.cat([current_input[:, 1:], new_step], dim=1)  # slide window\n",
    "\n",
    "    return torch.stack(forecast)  # [forecast_steps, 8]\n",
    "\n",
    "\n",
    "def evaluate_forecast(\n",
    "    forecast: torch.Tensor,\n",
    "    ground_truth: torch.Tensor,\n",
    "    loss_fn: torch.nn.Module,\n",
    "    metrics_fn: Callable[[torch.Tensor, torch.Tensor], float] = None\n",
    ") -> Tuple[float, float]:\n",
    "    \"\"\"\n",
    "    Compares forecast with ground truth and computes evaluation metrics.\n",
    "\n",
    "    Args:\n",
    "        forecast: Tensor of predicted values [forecast_steps, output_dim]\n",
    "        ground_truth: Tensor of true values [forecast_steps, output_dim]\n",
    "        loss_fn: Loss function (e.g. MSE)\n",
    "        metrics_fn: Optional function to compute additional metrics like R^2\n",
    "\n",
    "    Returns:\n",
    "        loss_value, metrics_value\n",
    "    \"\"\"\n",
    "    loss_value = loss_fn(forecast, ground_truth).item()\n",
    "    metrics_value = metrics_fn(forecast, ground_truth).item() if metrics_fn else None\n",
    "    return loss_value, metrics_value\n",
    "\n"
   ]
  },
  {
   "cell_type": "code",
   "execution_count": 25,
   "id": "328eb74e",
   "metadata": {},
   "outputs": [],
   "source": [
    "from sklearn.metrics import r2_score\n",
    "import torch.nn as nn\n",
    "\n",
    "def run_training_and_testing(\n",
    "    model: torch.nn.Module,\n",
    "    X_train: torch.Tensor,\n",
    "    y_train: torch.Tensor,\n",
    "    X_test: torch.Tensor,\n",
    "    y_test: torch.Tensor,\n",
    "    lookback: int,\n",
    "    device: torch.device,\n",
    "    epochs: int = 100,\n",
    "    lr: float = 0.001,\n",
    "):\n",
    "    \n",
    "    X_train = torch.tensor(X_train, dtype=torch.float32)\n",
    "    y_train = torch.tensor(y_train, dtype=torch.float32)\n",
    "    X_test = torch.tensor(X_test, dtype=torch.float32)\n",
    "    y_test = torch.tensor(y_test, dtype=torch.float32)\n",
    "    \n",
    "    # Define loss and optimizer\n",
    "    loss_fn = nn.MSELoss()\n",
    "    optimizer = torch.optim.Adam(model.parameters(), lr=lr)\n",
    "\n",
    "\n",
    "    # Begin training loop\n",
    "    for epoch in tqdm(range(1, epochs + 1)):\n",
    "        model.train()\n",
    "\n",
    "        # Forward pass\n",
    "        y_pred_train = model(X_train)\n",
    "        train_loss = loss_fn(y_pred_train, y_train)\n",
    "\n",
    "        # Backward pass\n",
    "        optimizer.zero_grad()\n",
    "        train_loss.backward()\n",
    "        optimizer.step()\n",
    "\n",
    "        # Evaluate every 20 epochs\n",
    "        if epoch % 20 == 0 or epoch == epochs:\n",
    "            with torch.inference_mode():\n",
    "                # Forecast using recursive strategy\n",
    "                initial_input = X_test[0].unsqueeze(0)  # [1, lookback, features]\n",
    "                forecast_steps = len(y_test)\n",
    "                y_pred_test = recursive_forecast(model, initial_input, forecast_steps, lookback, device)\n",
    "\n",
    "                # Evaluate y_pred_test\n",
    "                test_loss, test_r2 = evaluate_forecast(y_pred_test, y_test[:forecast_steps], loss_fn, regression_r2)\n",
    "\n",
    "                print(f\"Epoch [{epoch}/{epochs}]\")\n",
    "                print(f\"  Train Loss: {train_loss.item():.5f}\")\n",
    "                print(f\"  Test Loss:  {test_loss:.5f} | R² Score: {test_r2:.4f}\")\n",
    "\n",
    "    return model, y_pred_train, y_pred_test, train_loss, test_loss, test_r2\n"
   ]
  },
  {
   "cell_type": "code",
   "execution_count": 26,
   "id": "7bcd1ec0",
   "metadata": {},
   "outputs": [
    {
     "data": {
      "application/vnd.jupyter.widget-view+json": {
       "model_id": "4e23471d071d48dba71a438d7d66340d",
       "version_major": 2,
       "version_minor": 0
      },
      "text/plain": [
       "  0%|          | 0/100 [00:00<?, ?it/s]"
      ]
     },
     "metadata": {},
     "output_type": "display_data"
    },
    {
     "name": "stdout",
     "output_type": "stream",
     "text": [
      "Epoch [20/100]\n",
      "  Train Loss: 0.03629\n",
      "  Test Loss:  0.05849 | R² Score: -29075052.0726\n",
      "Epoch [40/100]\n",
      "  Train Loss: 0.00666\n",
      "  Test Loss:  0.02577 | R² Score: -100165337.2604\n",
      "Epoch [60/100]\n",
      "  Train Loss: 0.00489\n",
      "  Test Loss:  0.02377 | R² Score: -67212723.0392\n",
      "Epoch [80/100]\n",
      "  Train Loss: 0.00472\n",
      "  Test Loss:  0.02314 | R² Score: -312812759.9296\n",
      "Epoch [100/100]\n",
      "  Train Loss: 0.00463\n",
      "  Test Loss:  0.02319 | R² Score: -211490301.8695\n",
      "Train time on cpu: 422.589 seconds\n"
     ]
    }
   ],
   "source": [
    "device = torch.device(\"cuda\" if torch.cuda.is_available() else \"cpu\")\n",
    "\n",
    "# Measure time\n",
    "from timeit import default_timer as timer\n",
    "train_time_start_model_0 = timer()\n",
    "\n",
    "trained_model, y_pred_train, y_pred_test, train_loss, test_loss, test_r2 = run_training_and_testing(\n",
    "    model=model_LSTM,\n",
    "    X_train=X_train_tensor,\n",
    "    y_train=y_train_tensor,\n",
    "    X_test=X_test_tensor,\n",
    "    y_test=y_test_tensor,\n",
    "    lookback=20,\n",
    "    device=device,\n",
    "    epochs=100\n",
    ")\n",
    "\n",
    "train_time_end_model_0 = timer()\n",
    "total_train_time_model_0 = print_train_time(start=train_time_start_model_0,\n",
    "                                            end=train_time_end_model_0,\n",
    "                                            device=device)\n"
   ]
  },
  {
   "cell_type": "code",
   "execution_count": 27,
   "id": "3093e4ba",
   "metadata": {},
   "outputs": [],
   "source": [
    "def denormalize(data, scaler: MinMaxScaler) -> np.ndarray:\n",
    "    \"\"\"\n",
    "    Denormalizes data using the given scaler.\n",
    "\n",
    "    Args:\n",
    "        data (torch.Tensor or np.ndarray): Normalized data\n",
    "        scaler (MinMaxScaler): Scaler used during normalization\n",
    "\n",
    "    Returns:\n",
    "        np.ndarray: Denormalized data\n",
    "    \"\"\"\n",
    "    if isinstance(data, torch.Tensor):\n",
    "        data = data.detach().cpu().numpy()\n",
    "    return scaler.inverse_transform(data)\n",
    "\n"
   ]
  },
  {
   "cell_type": "code",
   "execution_count": 28,
   "id": "e259e24f",
   "metadata": {},
   "outputs": [],
   "source": [
    "# Denormalize true and predicted values\n",
    "y_train_true_denorm = denormalize(y_train_tensor, scaler)\n",
    "y_train_pred_denorm = denormalize(y_pred_train, scaler)\n",
    "\n",
    "y_test_true_denorm = denormalize(y_test_tensor, scaler)\n",
    "y_test_pred_denorm = denormalize(y_pred_test, scaler)\n"
   ]
  },
  {
   "cell_type": "code",
   "execution_count": 41,
   "id": "db741518",
   "metadata": {},
   "outputs": [],
   "source": [
    "from skopt import gp_minimize\n",
    "from skopt.space import Integer, Categorical\n",
    "import torch.optim as optim\n",
    "from torch.utils.data import DataLoader, TensorDataset\n",
    "\n",
    "# Define the objective function for Bayesian Optimization\n",
    "def objective(params):\n",
    "    # Extract parameters\n",
    "    num_layers = int(params[0])\n",
    "    hidden_size = int(params[1])\n",
    "    lookback = int(params[2])\n",
    "    batch_size_bo = int(params[3])\n",
    "    optimizer_name = params[4]\n",
    "\n",
    "    X_train_t = torch.FloatTensor(X_train_tensor)\n",
    "    y_train_t = torch.FloatTensor(y_train_tensor)\n",
    "    X_test_t = torch.FloatTensor(X_test_tensor)\n",
    "    y_test_t = torch.FloatTensor(y_test_tensor)\n",
    "    \n",
    "    # Model initialization\n",
    "    model = AttentionLSTM(\n",
    "        input_size=8,\n",
    "        hidden_size=hidden_size,\n",
    "        num_layers=num_layers,\n",
    "        dropout_prob=0.2  # Fixed dropout\n",
    "    ).to(device)\n",
    "    \n",
    "    # Optimizer selection\n",
    "    if optimizer_name == 'adam':\n",
    "        optimizer = optim.Adam(model.parameters())\n",
    "    elif optimizer_name == 'rmsprop':\n",
    "        optimizer = optim.RMSprop(model.parameters())\n",
    "    \n",
    "    # Training loop (limited epochs for optimization)\n",
    "    model.train()\n",
    "    batch_size_bo = 32\n",
    "    for epoch in range(10):  # Reduced epochs for faster optimization\n",
    "        for i in range(0, len(X_train_t), batch_size_bo):\n",
    "            inputs = X_train_t[i:i+batch_size_bo].to(device)\n",
    "            labels = y_train_t[i:i+batch_size_bo].to(device)\n",
    "\n",
    "            # Zero the gradients\n",
    "            optimizer.zero_grad()\n",
    "\n",
    "            # Forward pass\n",
    "            outputs = model(inputs)\n",
    "            loss = loss_fn(outputs, labels)\n",
    "\n",
    "            # Backward pass and optimization\n",
    "            loss.backward()\n",
    "            optimizer.step()\n",
    "    \n",
    "    # Validation\n",
    "    model.eval()\n",
    "    with torch.no_grad():\n",
    "        test_preds = recursive_forecast(\n",
    "            model, \n",
    "            X_test_t[0:1],  # Initial sequence\n",
    "            len(X_test_t),\n",
    "            lookback,\n",
    "            device\n",
    "        )\n",
    "        val_loss = nn.MSELoss()(test_preds, y_test_t).item()\n",
    "    \n",
    "    return val_loss"
   ]
  },
  {
   "cell_type": "code",
   "execution_count": 42,
   "id": "31b98033",
   "metadata": {},
   "outputs": [],
   "source": [
    "# Define search space\n",
    "param_space = [\n",
    "    Integer(1, 3, name='num_layers'),          # LSTM layers\n",
    "    Integer(32, 256, name='hidden_size'),      # Hidden units\n",
    "    Integer(60, 90, name='lookback'),          # Sequence length\n",
    "    Integer(32, 256, name='batch_size'),       # Batch size\n",
    "    Categorical(['adam', 'rmsprop'], name='optimizer')  # Optimizer\n",
    "]"
   ]
  },
  {
   "cell_type": "code",
   "execution_count": 43,
   "id": "26801567",
   "metadata": {},
   "outputs": [
    {
     "name": "stdout",
     "output_type": "stream",
     "text": [
      "Iteration No: 1 started. Evaluating function at random point.\n",
      "Iteration No: 1 ended. Evaluation done at random point.\n",
      "Time taken: 181.8271\n",
      "Function value obtained: 0.0235\n",
      "Current minimum: 0.0235\n",
      "Iteration No: 2 started. Evaluating function at random point.\n"
     ]
    },
    {
     "name": "stderr",
     "output_type": "stream",
     "text": [
      "c:\\Users\\User\\Anaconda3\\Lib\\site-packages\\torch\\nn\\modules\\rnn.py:82: UserWarning: dropout option adds dropout after all but last recurrent layer, so non-zero dropout expects num_layers greater than 1, but got dropout=0.2 and num_layers=1\n",
      "  warnings.warn(\"dropout option adds dropout after all but last \"\n"
     ]
    },
    {
     "name": "stdout",
     "output_type": "stream",
     "text": [
      "Iteration No: 2 ended. Evaluation done at random point.\n",
      "Time taken: 94.9729\n",
      "Function value obtained: 0.0228\n",
      "Current minimum: 0.0228\n",
      "Iteration No: 3 started. Evaluating function at random point.\n",
      "Iteration No: 3 ended. Evaluation done at random point.\n",
      "Time taken: 125.0853\n",
      "Function value obtained: 0.0232\n",
      "Current minimum: 0.0228\n",
      "Iteration No: 4 started. Evaluating function at random point.\n",
      "Iteration No: 4 ended. Evaluation done at random point.\n",
      "Time taken: 213.2013\n",
      "Function value obtained: 0.0234\n",
      "Current minimum: 0.0228\n",
      "Iteration No: 5 started. Evaluating function at random point.\n",
      "Iteration No: 5 ended. Evaluation done at random point.\n",
      "Time taken: 108.7521\n",
      "Function value obtained: 0.0236\n",
      "Current minimum: 0.0228\n",
      "Iteration No: 6 started. Evaluating function at random point.\n",
      "Iteration No: 6 ended. Evaluation done at random point.\n",
      "Time taken: 156.7443\n",
      "Function value obtained: 0.0234\n",
      "Current minimum: 0.0228\n",
      "Iteration No: 7 started. Evaluating function at random point.\n",
      "Iteration No: 7 ended. Evaluation done at random point.\n",
      "Time taken: 225.9136\n",
      "Function value obtained: 0.0236\n",
      "Current minimum: 0.0228\n",
      "Iteration No: 8 started. Evaluating function at random point.\n",
      "Iteration No: 8 ended. Evaluation done at random point.\n",
      "Time taken: 127.1226\n",
      "Function value obtained: 0.0231\n",
      "Current minimum: 0.0228\n",
      "Iteration No: 9 started. Evaluating function at random point.\n",
      "Iteration No: 9 ended. Evaluation done at random point.\n",
      "Time taken: 468.0458\n",
      "Function value obtained: 0.0232\n",
      "Current minimum: 0.0228\n",
      "Iteration No: 10 started. Evaluating function at random point.\n",
      "Iteration No: 10 ended. Evaluation done at random point.\n",
      "Time taken: 2587.2530\n",
      "Function value obtained: 0.0231\n",
      "Current minimum: 0.0228\n",
      "Iteration No: 11 started. Searching for the next optimal point.\n",
      "Iteration No: 11 ended. Search finished for the next optimal point.\n",
      "Time taken: 523.0825\n",
      "Function value obtained: 0.0233\n",
      "Current minimum: 0.0228\n",
      "Iteration No: 12 started. Searching for the next optimal point.\n",
      "Iteration No: 12 ended. Search finished for the next optimal point.\n",
      "Time taken: 361.1388\n",
      "Function value obtained: 0.0230\n",
      "Current minimum: 0.0228\n",
      "Iteration No: 13 started. Searching for the next optimal point.\n"
     ]
    },
    {
     "name": "stderr",
     "output_type": "stream",
     "text": [
      "c:\\Users\\User\\Anaconda3\\Lib\\site-packages\\torch\\nn\\modules\\rnn.py:82: UserWarning: dropout option adds dropout after all but last recurrent layer, so non-zero dropout expects num_layers greater than 1, but got dropout=0.2 and num_layers=1\n",
      "  warnings.warn(\"dropout option adds dropout after all but last \"\n"
     ]
    },
    {
     "name": "stdout",
     "output_type": "stream",
     "text": [
      "Iteration No: 13 ended. Search finished for the next optimal point.\n",
      "Time taken: 208.5988\n",
      "Function value obtained: 0.0238\n",
      "Current minimum: 0.0228\n",
      "Iteration No: 14 started. Searching for the next optimal point.\n"
     ]
    },
    {
     "name": "stderr",
     "output_type": "stream",
     "text": [
      "c:\\Users\\User\\Anaconda3\\Lib\\site-packages\\torch\\nn\\modules\\rnn.py:82: UserWarning: dropout option adds dropout after all but last recurrent layer, so non-zero dropout expects num_layers greater than 1, but got dropout=0.2 and num_layers=1\n",
      "  warnings.warn(\"dropout option adds dropout after all but last \"\n"
     ]
    },
    {
     "name": "stdout",
     "output_type": "stream",
     "text": [
      "Iteration No: 14 ended. Search finished for the next optimal point.\n",
      "Time taken: 83.1517\n",
      "Function value obtained: 0.0228\n",
      "Current minimum: 0.0228\n",
      "Iteration No: 15 started. Searching for the next optimal point.\n"
     ]
    },
    {
     "name": "stderr",
     "output_type": "stream",
     "text": [
      "c:\\Users\\User\\Anaconda3\\Lib\\site-packages\\torch\\nn\\modules\\rnn.py:82: UserWarning: dropout option adds dropout after all but last recurrent layer, so non-zero dropout expects num_layers greater than 1, but got dropout=0.2 and num_layers=1\n",
      "  warnings.warn(\"dropout option adds dropout after all but last \"\n"
     ]
    },
    {
     "name": "stdout",
     "output_type": "stream",
     "text": [
      "Iteration No: 15 ended. Search finished for the next optimal point.\n",
      "Time taken: 161.8008\n",
      "Function value obtained: 0.0229\n",
      "Current minimum: 0.0228\n",
      "Iteration No: 16 started. Searching for the next optimal point.\n"
     ]
    },
    {
     "name": "stderr",
     "output_type": "stream",
     "text": [
      "c:\\Users\\User\\Anaconda3\\Lib\\site-packages\\torch\\nn\\modules\\rnn.py:82: UserWarning: dropout option adds dropout after all but last recurrent layer, so non-zero dropout expects num_layers greater than 1, but got dropout=0.2 and num_layers=1\n",
      "  warnings.warn(\"dropout option adds dropout after all but last \"\n"
     ]
    },
    {
     "name": "stdout",
     "output_type": "stream",
     "text": [
      "Iteration No: 16 ended. Search finished for the next optimal point.\n",
      "Time taken: 59.2099\n",
      "Function value obtained: 0.0229\n",
      "Current minimum: 0.0228\n",
      "Iteration No: 17 started. Searching for the next optimal point.\n"
     ]
    },
    {
     "name": "stderr",
     "output_type": "stream",
     "text": [
      "c:\\Users\\User\\Anaconda3\\Lib\\site-packages\\torch\\nn\\modules\\rnn.py:82: UserWarning: dropout option adds dropout after all but last recurrent layer, so non-zero dropout expects num_layers greater than 1, but got dropout=0.2 and num_layers=1\n",
      "  warnings.warn(\"dropout option adds dropout after all but last \"\n"
     ]
    },
    {
     "name": "stdout",
     "output_type": "stream",
     "text": [
      "Iteration No: 17 ended. Search finished for the next optimal point.\n",
      "Time taken: 92.8623\n",
      "Function value obtained: 0.0230\n",
      "Current minimum: 0.0228\n",
      "Iteration No: 18 started. Searching for the next optimal point.\n"
     ]
    },
    {
     "name": "stderr",
     "output_type": "stream",
     "text": [
      "c:\\Users\\User\\Anaconda3\\Lib\\site-packages\\torch\\nn\\modules\\rnn.py:82: UserWarning: dropout option adds dropout after all but last recurrent layer, so non-zero dropout expects num_layers greater than 1, but got dropout=0.2 and num_layers=1\n",
      "  warnings.warn(\"dropout option adds dropout after all but last \"\n"
     ]
    },
    {
     "name": "stdout",
     "output_type": "stream",
     "text": [
      "Iteration No: 18 ended. Search finished for the next optimal point.\n",
      "Time taken: 98.7948\n",
      "Function value obtained: 0.0237\n",
      "Current minimum: 0.0228\n",
      "Iteration No: 19 started. Searching for the next optimal point.\n"
     ]
    },
    {
     "name": "stderr",
     "output_type": "stream",
     "text": [
      "c:\\Users\\User\\Anaconda3\\Lib\\site-packages\\torch\\nn\\modules\\rnn.py:82: UserWarning: dropout option adds dropout after all but last recurrent layer, so non-zero dropout expects num_layers greater than 1, but got dropout=0.2 and num_layers=1\n",
      "  warnings.warn(\"dropout option adds dropout after all but last \"\n"
     ]
    },
    {
     "name": "stdout",
     "output_type": "stream",
     "text": [
      "Iteration No: 19 ended. Search finished for the next optimal point.\n",
      "Time taken: 73.0746\n",
      "Function value obtained: 0.0232\n",
      "Current minimum: 0.0228\n",
      "Iteration No: 20 started. Searching for the next optimal point.\n"
     ]
    },
    {
     "name": "stderr",
     "output_type": "stream",
     "text": [
      "c:\\Users\\User\\Anaconda3\\Lib\\site-packages\\torch\\nn\\modules\\rnn.py:82: UserWarning: dropout option adds dropout after all but last recurrent layer, so non-zero dropout expects num_layers greater than 1, but got dropout=0.2 and num_layers=1\n",
      "  warnings.warn(\"dropout option adds dropout after all but last \"\n"
     ]
    },
    {
     "name": "stdout",
     "output_type": "stream",
     "text": [
      "Iteration No: 20 ended. Search finished for the next optimal point.\n",
      "Time taken: 95.9687\n",
      "Function value obtained: 0.0234\n",
      "Current minimum: 0.0228\n",
      "Best parameters: [1, 135, 70, 64, 'rmsprop']\n",
      "Best validation MSE: 0.022796981036663055\n"
     ]
    }
   ],
   "source": [
    "# Run optimization\n",
    "res = gp_minimize(\n",
    "    objective,\n",
    "    param_space,\n",
    "    n_calls=20,               # Reduced from 30\n",
    "    random_state=42,\n",
    "    verbose=True,\n",
    "    n_jobs=-1                # Parallel processing\n",
    ")\n",
    "\n",
    "# Best parameters\n",
    "print(f\"Best parameters: {res.x}\")\n",
    "print(f\"Best validation MSE: {res.fun}\")"
   ]
  },
  {
   "cell_type": "code",
   "execution_count": null,
   "id": "8af12f5c",
   "metadata": {},
   "outputs": [
    {
     "data": {
      "image/png": "[encoded data removed]",
      "text/plain": [
       "<Figure size 1200x500 with 1 Axes>"
      ]
     },
     "metadata": {},
     "output_type": "display_data"
    },
    {
     "data": {
      "image/png": "[encoded data removed]",
      "text/plain": [
       "<Figure size 1200x500 with 1 Axes>"
      ]
     },
     "metadata": {},
     "output_type": "display_data"
    }
   ],
   "source": [
    "import matplotlib.pyplot as plt\n",
    "import numpy as np\n",
    "\n",
    "def plot_predictions(true_vals, predicted_vals, title='Prediction vs Actual', feature_idx=0, dataset_type='Train'):\n",
    "    plt.figure(figsize=(12, 5))\n",
    "    plt.plot(true_vals[:375, feature_idx], label='True', color='blue')\n",
    "    plt.plot(predicted_vals[:375, feature_idx], label='Predicted', color='red', alpha=0.7)\n",
    "    plt.title(f'{title} - {dataset_type} Set (Feature {feature_idx})')\n",
    "    plt.xlabel('Time step')\n",
    "    plt.ylabel('Price')\n",
    "    plt.legend()\n",
    "    plt.grid(True)\n",
    "    plt.show()\n",
    "\n",
    "# Example: Plot for 'close' price (assuming it's feature 0)\n",
    "plot_predictions(y_train_true_denorm, y_train_pred_denorm, dataset_type='Train', feature_idx=0)\n",
    "plot_predictions(y_test_true_denorm, y_test_pred_denorm, dataset_type='Test', feature_idx=0)\n"
   ]
  }
 ],
 "metadata": {
  "kernelspec": {
   "display_name": "base",
   "language": "python",
   "name": "python3"
  },
  "language_info": {
   "codemirror_mode": {
    "name": "ipython",
    "version": 3
   },
   "file_extension": ".py",
   "mimetype": "text/x-python",
   "name": "python",
   "nbconvert_exporter": "python",
   "pygments_lexer": "ipython3",
   "version": "3.11.5"
  }
 },
 "nbformat": 4,
 "nbformat_minor": 5
}
