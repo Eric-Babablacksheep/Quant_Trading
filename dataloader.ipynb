{
 "cells": [
  {
   "cell_type": "code",
   "execution_count": 1,
   "id": "c4562f76",
   "metadata": {},
   "outputs": [],
   "source": [
    "import requests\n",
    "import pandas as pd\n",
    "import pandas_ta as ta\n",
    "import numpy as np\n",
    "import time\n",
    "import torch\n",
    "from typing import Tuple\n",
    "from abc import ABC, abstractmethod\n",
    "from typing import Dict, Any, List, Optional, Callable\n",
    "from sklearn.preprocessing import MinMaxScaler\n",
    "\n",
    "pd.set_option('display.max_rows', None)"
   ]
  },
  {
   "cell_type": "code",
   "execution_count": 2,
   "id": "eedb30e9",
   "metadata": {},
   "outputs": [],
   "source": [
    "class IDataFetcher(ABC):\n",
    "    @abstractmethod\n",
    "    def fetch(self, start_time: int, end_time: int) -> pd.DataFrame:\n",
    "        pass"
   ]
  },
  {
   "cell_type": "code",
   "execution_count": 3,
   "id": "b64dd29f",
   "metadata": {},
   "outputs": [],
   "source": [
    "class MarketDataFetcher(IDataFetcher):\n",
    "    def __init__(\n",
    "        self,\n",
    "        api_key: str,\n",
    "        base_url: str,\n",
    "        endpoint: str,\n",
    "        params_template: Dict[str, Any],\n",
    "        flatten_json: bool = False,\n",
    "        rename_columns: Optional[Dict[str, str]] = None\n",
    "    ):\n",
    "        self.api_key = api_key\n",
    "        self.base_url = base_url\n",
    "        self.endpoint = endpoint\n",
    "        self.params_template = params_template\n",
    "        self.flatten_json = flatten_json\n",
    "        self.rename_columns = rename_columns or {}\n",
    "\n",
    "    def fetch(self, start_time: int, end_time: int) -> pd.DataFrame:\n",
    "        headers = {\"X-API-Key\": self.api_key}\n",
    "        url = f\"{self.base_url}/{self.endpoint}\"\n",
    "        params = self.params_template.copy()\n",
    "        params.update({\n",
    "            \"start_time\": start_time,\n",
    "            \"end_time\": end_time\n",
    "        })\n",
    "\n",
    "        response = requests.get(url, headers=headers, params=params)\n",
    "        response.raise_for_status()\n",
    "        data = response.json().get(\"data\", [])\n",
    "\n",
    "        # Use flatten if nested JSON\n",
    "        df = pd.json_normalize(data) if self.flatten_json else pd.DataFrame(data)\n",
    "\n",
    "        # Add datetime index\n",
    "        df['datetime'] = pd.to_datetime(df['start_time'], unit='ms')\n",
    "        df.set_index('datetime', inplace=True)\n",
    "        df.drop(columns=['start_time'], inplace=True)\n",
    "\n",
    "        # Rename if required\n",
    "        df.rename(columns=self.rename_columns, inplace=True)\n",
    "\n",
    "        return df\n"
   ]
  },
  {
   "cell_type": "code",
   "execution_count": null,
   "id": "557a1576",
   "metadata": {},
   "outputs": [],
   "source": [
    "def get_cryptoquant_data(filtered = True):\n",
    "    now = int(time.time() * 1000)\n",
    "    start_time = now - 6 * 365 * 24 * 60 * 60 * 1000\n",
    "\n",
    "    api_key = \"YBYu4oyUpkxUKi5FVZGxnDRTsBneFjEvxMs55xJHysR6kZf6\"\n",
    "\n",
    "    fetcher = MarketDataFetcher(\n",
    "        api_key=api_key,\n",
    "        base_url=\"https://api.datasource.cybotrade.rs/cryptoquant\",\n",
    "        endpoint=\"xrp/market-data/price-ohlcv\",\n",
    "        params_template={\"window\": \"hour\", \"flatten\": \"true\"}\n",
    "    )\n",
    "    df = fetcher.fetch(start_time, now)\n",
    "\n",
    "    if filtered:\n",
    "        return df[[\"close\", \"volume\"]]\n",
    "    else:\n",
    "        return df"
   ]
  },
  {
   "cell_type": "code",
   "execution_count": 5,
   "id": "18498c36",
   "metadata": {},
   "outputs": [],
   "source": [
    "class TA_inidicators:\n",
    "    def __init__(self, df: pd.DataFrame):\n",
    "        self.df = df.copy()\n",
    "\n",
    "    def add_ema(self, length=10):\n",
    "        self.df[f'ema'] = ta.ema(self.df['close'], length=length)\n",
    "\n",
    "    def add_rsi(self, length=14):\n",
    "        self.df[f'rsi'] = ta.rsi(self.df['close'], length=length)\n",
    "\n",
    "    def add_macd(self, fast=12, slow=26, signal=9):\n",
    "        macd = ta.macd(self.df['close'], fast=fast, slow=slow, signal=signal)\n",
    "        self.df = pd.concat([self.df, macd], axis=1)\n",
    "\n",
    "    def add_bollinger_band_width(self, length=20):\n",
    "        bbands = ta.bbands(self.df['close'], length=length)\n",
    "        self.df['bollinger_width'] = bbands[f'BBU_{length}_2.0'] - bbands[f'BBL_{length}_2.0']\n",
    "\n",
    "    def add_all_indicators(self):\n",
    "        self.add_ema()\n",
    "        self.add_rsi()\n",
    "        self.add_macd()\n",
    "        self.add_bollinger_band_width()\n",
    "\n",
    "    def get_dataframe(self):\n",
    "        return self.df\n"
   ]
  },
  {
   "cell_type": "code",
   "execution_count": 6,
   "id": "1c0cf70b",
   "metadata": {},
   "outputs": [],
   "source": [
    "class combineTA_to_OHLCV:\n",
    "    def __init__(self, ohlcv_df: pd.DataFrame):\n",
    "        self.ohlcv_df = ohlcv_df\n",
    "\n",
    "    def process(self) -> pd.DataFrame:\n",
    "        indicator_generator = TA_inidicators(self.ohlcv_df)\n",
    "        indicator_generator.add_all_indicators()\n",
    "        return indicator_generator.get_dataframe()\n"
   ]
  },
  {
   "cell_type": "code",
   "execution_count": 7,
   "id": "53e40a6b",
   "metadata": {},
   "outputs": [],
   "source": [
    "class IPreprocessor(ABC):\n",
    "    @abstractmethod\n",
    "    def process(self, df: pd.DataFrame) -> pd.DataFrame:\n",
    "        pass"
   ]
  },
  {
   "cell_type": "code",
   "execution_count": 8,
   "id": "94fe808d",
   "metadata": {},
   "outputs": [],
   "source": [
    "class Normalizer:\n",
    "    def __init__(self):\n",
    "        self.scaler = MinMaxScaler()\n",
    "\n",
    "    def process(self, df: pd.DataFrame) -> Tuple[pd.DataFrame, np.ndarray, np.ndarray, MinMaxScaler]:\n",
    "        ohlcv_columns = ['close', 'volume', 'ema', 'rsi',\n",
    "                         'MACD_12_26_9', 'MACDh_12_26_9',\n",
    "                         'MACDs_12_26_9', 'bollinger_width']\n",
    "        df[ohlcv_columns] = self.scaler.fit_transform(df[ohlcv_columns])\n",
    "        return df, self.scaler.data_min_, self.scaler.data_max_, self.scaler\n",
    "\n"
   ]
  },
  {
   "cell_type": "code",
   "execution_count": 9,
   "id": "3e1c502d",
   "metadata": {},
   "outputs": [],
   "source": [
    "class SequenceCreator:\n",
    "    def __init__(self, lookback: int = 20):\n",
    "        self.lookback = lookback\n",
    "\n",
    "    def create_sequences(self, df: pd.DataFrame) -> Tuple[np.ndarray, np.ndarray]:\n",
    "        X, y = [], []\n",
    "        for i in range(len(df) - self.lookback):\n",
    "            X.append(df.iloc[i:i + self.lookback].values)  # [lookback, features]\n",
    "            y.append(df.iloc[i + self.lookback].values)    # [features]\n",
    "        return np.array(X), np.array(y)  # X: [samples, lookback, features], y: [samples, features]\n",
    "\n",
    "\n"
   ]
  },
  {
   "cell_type": "code",
   "execution_count": 10,
   "id": "f3a40cbd",
   "metadata": {},
   "outputs": [],
   "source": [
    "class MissingTimestampHandler(IPreprocessor):\n",
    "    def __init__(self, frequency: str = '1h'):\n",
    "        self.frequency = frequency\n",
    "\n",
    "    def process(self, df: pd.DataFrame) -> pd.DataFrame:\n",
    "        df = df.resample(self.frequency).mean()\n",
    "        df.interpolate(method='linear', inplace=True)\n",
    "        return df"
   ]
  },
  {
   "cell_type": "code",
   "execution_count": 11,
   "id": "0c7c8de5",
   "metadata": {},
   "outputs": [],
   "source": [
    "class TrainTestSplitter(IPreprocessor):\n",
    "    def __init__(self, train_ratio: float = 0.7):\n",
    "        self.train_ratio = train_ratio\n",
    "\n",
    "    def process(self, X: np.ndarray, y: np.ndarray) -> Tuple[np.ndarray, np.ndarray, np.ndarray, np.ndarray]:\n",
    "        split_index = int(len(X) * self.train_ratio)\n",
    "        X_train, X_test = X[:split_index], X[split_index:]\n",
    "        y_train, y_test = y[:split_index], y[split_index:]\n",
    "        return X_train, X_test, y_train, y_test\n"
   ]
  },
  {
   "cell_type": "code",
   "execution_count": null,
   "id": "66615fd9",
   "metadata": {},
   "outputs": [],
   "source": [
    "class DataReshape(IPreprocessor):\n",
    "    def __init__(self, lookback: int = 20, train_ratio: float = 0.7):\n",
    "        self.normalizer = Normalizer()\n",
    "        self.sequence_creator = SequenceCreator(lookback)\n",
    "        self.splitter = TrainTestSplitter(train_ratio)\n",
    "\n",
    "    def process(self, df: pd.DataFrame) -> Tuple[np.ndarray, np.ndarray, np.ndarray, np.ndarray, np.ndarray, np.ndarray, MinMaxScaler]:\n",
    "        df_normalized, data_min, data_max, scaler = self.normalizer.process(df)\n",
    "        X, y = self.sequence_creator.create_sequences(df_normalized)\n",
    "        X_train, X_test, y_train, y_test = self.splitter.process(X, y)\n",
    "        return X_train, X_test, y_train, y_test, data_min, data_max, scaler\n"
   ]
  },
  {
   "cell_type": "code",
   "execution_count": 13,
   "id": "702fb574",
   "metadata": {},
   "outputs": [],
   "source": [
    "def load_dataset(lookback: int = 20, train_ratio: float = 0.7) -> Tuple[np.ndarray, np.ndarray, np.ndarray, np.ndarray, np.ndarray, np.ndarray, MinMaxScaler]:\n",
    "    df = get_cryptoquant_data()\n",
    "    df = combineTA_to_OHLCV(df).process()\n",
    "    df = df.dropna()\n",
    "    pipeline = DataReshape(lookback=lookback, train_ratio=train_ratio)\n",
    "    return pipeline.process(df)\n"
   ]
  }
 ],
 "metadata": {
  "kernelspec": {
   "display_name": "Python 3",
   "language": "python",
   "name": "python3"
  },
  "language_info": {
   "codemirror_mode": {
    "name": "ipython",
    "version": 3
   },
   "file_extension": ".py",
   "mimetype": "text/x-python",
   "name": "python",
   "nbconvert_exporter": "python",
   "pygments_lexer": "ipython3",
   "version": "3.11.9"
  }
 },
 "nbformat": 4,
 "nbformat_minor": 5
}
